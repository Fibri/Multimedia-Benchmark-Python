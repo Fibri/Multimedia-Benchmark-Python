{
 "cells": [
  {
   "cell_type": "markdown",
   "metadata": {},
   "source": [
    "# Mini-projet multimédia"
   ]
  },
  {
   "cell_type": "markdown",
   "metadata": {},
   "source": [
    "Alexis Bitaillou, Kévin Coëpeau, Pierre Michel, Valentin Prezelin"
   ]
  },
  {
   "cell_type": "markdown",
   "metadata": {},
   "source": [
    "## Présentation du sujet"
   ]
  },
  {
   "cell_type": "markdown",
   "metadata": {},
   "source": [
    "L'objectif de notre mini-projet multimédia est de comparer differentes bibliothèques Python de traitement d'image.\n",
    "On nous a proposé les bibliothèques : Mahotas, SimpleCV, Scikit Image et Pillow.\n",
    "Nous avons remplacé SimpleCV par OpenCV, car celle-ci n'était pas disponible sous Python 3. Ces 4 bibliothèques s'appuient sur Numpy."
   ]
  },
  {
   "cell_type": "markdown",
   "metadata": {},
   "source": [
    "Afin de comparer les bibliothèques, nous avons utilisé les TP d'image pour élaborer notre benchmark. Les TP utilisent des fonctions élémentaires de traitement d'image comme le filtrage et l'égalisation par exemple."
   ]
  },
  {
   "cell_type": "markdown",
   "metadata": {},
   "source": [
    "### Pillow\n",
    "\n",
    "Pillow est un fork de la bibliothèque PIL (Python Imaging Library). C'est une bibliothèque relativement bas niveau. Elle permet d'ouvrir des images. Elle permet aussi d'effectuer des traitements simples commes des rotations ou autres déformations."
   ]
  },
  {
   "cell_type": "markdown",
   "metadata": {},
   "source": [
    ""
   ]
  }
 ],
 "metadata": {
  "kernelspec": {
   "display_name": "Python 3",
   "language": "python",
   "name": "python3"
  },
  "language_info": {
   "codemirror_mode": {
    "name": "ipython",
    "version": 3.0
   },
   "file_extension": ".py",
   "mimetype": "text/x-python",
   "name": "python",
   "nbconvert_exporter": "python",
   "pygments_lexer": "ipython3",
   "version": "3.4.2"
  }
 },
 "nbformat": 4,
 "nbformat_minor": 0
}