{
 "cells": [
  {
   "cell_type": "markdown",
   "metadata": {},
   "source": [
    "# Mini-projet multimédia"
   ]
  },
  {
   "cell_type": "markdown",
   "metadata": {},
   "source": [
    "Alexis Bitaillou, Kévin Coëpeau, Pierre Michel, Valentin Prezelin"
   ]
  },
  {
   "cell_type": "markdown",
   "metadata": {},
   "source": [
    "## Présentation du sujet"
   ]
  },
  {
   "cell_type": "markdown",
   "metadata": {},
   "source": [
    "L'objectif de notre mini-projet multimédia est de comparer differentes bibliothèques Python de traitement d'image.\n",
    "On nous a proposé les bibliothèques : Mahotas, SimpleCV, Scikit Image et Pillow.\n",
    "Nous avons remplacé SimpleCV par OpenCV, car celle-ci n'était pas disponible sous Python 3. Ces 4 bibliothèques s'appuient sur Numpy."
   ]
  },
  {
   "cell_type": "markdown",
   "metadata": {},
   "source": [
    "Afin de comparer les bibliothèques, nous avons utilisé les TP d'image pour élaborer notre benchmark. Les TP utilisent des fonctions élémentaires de traitement d'image comme le filtrage et l'égalisation par exemple."
   ]
  },
  {
   "cell_type": "markdown",
   "metadata": {},
   "source": [
    "## Présentation des bibliothèques\n",
    "### Pillow\n",
    "\n",
    "Pillow est un fork de la bibliothèque PIL (Python Imaging Library). C'est une bibliothèque relativement bas niveau. Elle permet d'ouvrir des images. Elle permet aussi d'effectuer des traitements simples commes des rotations ou autres déformations. Voici un exemple d'utilisation de Pillow:"
   ]
  },
  {
   "cell_type": "code",
   "execution_count": null,
   "metadata": {},
   "outputs": [],
   "source": [
    "from PIL import Image\n",
    "from pylab import *\n",
    "import matplotlib.pyplot as plt\n",
    "im = Image.open(\"test2.png\").convert('L') # conversion en image niveau de gris\n",
    "\n",
    "# Affichage de l'histogramme des valeurs de pixels\n",
    "def affichage_histogramme(img,x):  # x: précision de l'histogramme\n",
    "    data=im.getdata()\n",
    "    xlim(0.0,256.0)\n",
    "    plt.hist(data,x)"
   ]
  },
  {
   "cell_type": "markdown",
   "metadata": {},
   "source": [
    "### Mahotas\n",
    "Mahotas est une bibliothèque apparue en 2012. Elle est en cours de développement, des \"releases\" sont publiées régulièrement afin d'augmenter le nombre de fonctionnalité. Voici un exemple d'utilisation de Mahotas:"
   ]
  },
  {
   "cell_type": "code",
   "execution_count": null,
   "metadata": {},
   "outputs": [],
   "source": [
    "import mahotas\n",
    "import mahotas.demos\n",
    "import numpy as np\n",
    "from pylab import imshow, show\n",
    "\n",
    "img = mahotas.demos.load('lean', as_grey = True)\n",
    "img = img.astype(np.uint8)\n",
    "\n",
    "#Seuillage avec méthode Otsu\n",
    "seuillage_otsu = mahotas.otsu(img)\n",
    "imshow(img > seuillage_otsu)\n",
    "show()\n",
    "\n",
    "#seuillage avec méthode Riddler_Calvard\n",
    "seuillage_rc = mahotas.rc(img)\n",
    "imshow(img > seuillage_rc)\n",
    "show()"
   ]
  },
  {
   "cell_type": "markdown",
   "metadata": {},
   "source": [
    "### Scikit-image\n",
    "Scikit-image est une bibliothèque de haut niveau de traitement d'image. Elle utilise pillow. Elle propose de nombreuses fonctionnalités intéressantes. Elle est bien documentée. Mais Scikit-image présente beaucoup de différence entre les différentes versions de son API. Nous avons regroupé différents exemples d'utilisation dans un notebook spécifique."
   ]
  },
  {
   "cell_type": "markdown",
   "metadata": {},
   "source": [
    "### OpenCV\n",
    "OpenCV est une bibliothèque écrite en C/C++. Elle utilisable en Python via une interface. Elle est performante et posséde un niveau de maturité supérieure aux autres bibliothèques précédement citées. Nous avons regroupé différents exemples d'utilisation dans un notebook spécifique."
   ]
  },
  {
   "cell_type": "markdown",
   "metadata": {},
   "source": [
    "## Conclusion\n",
    "OpenCV et Scikit-image se démarquent par leur fonctionnalité et leur simplicité d'utilisation. OpenCV est plus mature que Scikit-images. Néanmoins Scikit-image est plus facilement installable, car il suffit d'un ``pip3 install skimage``. "
   ]
  }
 ],
 "metadata": {
  "kernelspec": {
   "display_name": "Python 3",
   "language": "python",
   "name": "python3"
  },
  "language_info": {
   "codemirror_mode": {
    "name": "ipython",
    "version": 3.0
   },
   "file_extension": ".py",
   "mimetype": "text/x-python",
   "name": "python",
   "nbconvert_exporter": "python",
   "pygments_lexer": "ipython3",
   "version": "3.4.2"
  }
 },
 "nbformat": 4,
 "nbformat_minor": 0
}