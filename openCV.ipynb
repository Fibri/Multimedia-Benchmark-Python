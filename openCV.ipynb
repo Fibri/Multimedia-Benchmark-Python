{
 "cells": [
  {
   "cell_type": "markdown",
   "metadata": {},
   "source": [
    "OpenCV-Python"
   ]
  },
  {
   "cell_type": "markdown",
   "metadata": {},
   "source": [
    "Voici le notebook utilisant uniquement scikit-image. Il présente des cas d'utilisation utilisant les TP images. La version de scikit-image utilisée est la version 0.12. C'est la dernière version stable. Elle disponible via pip3. Il existe des différentes importantes entre les versions de scikit-images. L'API est en train de s'étendre."
   ]
  },
  {
   "cell_type": "markdown",
   "metadata": {},
   "source": [
    "On va commencer par charger une image et la transformer en niveau de gris.\n",
    "On affiche ensuite son histogramme des fréquences."
   ]
  },
  {
   "cell_type": "code",
   "execution_count": 7,
   "metadata": {
    "collapsed": false
   },
   "outputs": [
    {
     "data": {
      "text/plain": [
       "array([[107, 142, 155, ..., 166, 169, 174],\n",
       "       [ 96, 135, 159, ..., 137, 144, 151],\n",
       "       [ 90, 133, 172, ..., 130, 138, 142],\n",
       "       ..., \n",
       "       [ 19,  15,  25, ...,  75,  78,  76],\n",
       "       [ 17,  13,  18, ...,  77,  82,  81],\n",
       "       [ 21,  28,  29, ...,  76,  80,  77]], dtype=uint8)"
      ]
     },
     "execution_count": 7,
     "metadata": {},
     "output_type": "execute_result"
    }
   ],
   "source": [
    "import cv2\n",
    "\n",
    "# Load as grayscale\n",
    "img = cv2.imread('tp1/talvi.jpg',0)\n",
    "hist = cv2.calcHist([img],[0],None,[256],[0,256])\n",
    "\n",
    "from matplotlib import pyplot as plt\n",
    "\n",
    "plt.subplot(1,2,1), plt.imshow(img, 'gray')\n",
    "plt.subplot(1,2,2), plt.plot(hist)\n",
    "plt.xlim([0,256])\n",
    "\n",
    "plt.show()\n",
    "\n",
    "img"
   ]
  },
  {
   "cell_type": "markdown",
   "metadata": {},
   "source": [
    "On va commencer par charger une image et la transformer en niveau de gris.\n",
    "On affiche ensuite son histogramme des fréquences."
   ]
  },
  {
   "cell_type": "code",
   "execution_count": 2,
   "metadata": {
    "collapsed": true
   },
   "outputs": [],
   "source": [
    "def quantification(img,q):\n",
    "    \n",
    "    imgQ = img.copy()\n",
    "    for x in range(img.shape[0]):\n",
    "        for y in range(img.shape[1]):\n",
    "            imgQ[x][y] = q * round(img[x][y] / q)\n",
    "            \n",
    "    return imgQ\n",
    "\n",
    "        \n",
    "plt.subplot(1,2,1), plt.imshow(img, 'gray')\n",
    "plt.subplot(1,2,2), plt.imshow(quantification(img,2), 'gray')\n",
    "plt.xlim([0,256])\n",
    "\n",
    "plt.show()"
   ]
  },
  {
   "cell_type": "markdown",
   "metadata": {},
   "source": [
    "OpenCV ne propose pas de fonction pour calculer l'erreur quadratique. De ce fait elle est ici calculée à la main."
   ]
  },
  {
   "cell_type": "code",
   "execution_count": 3,
   "metadata": {
    "collapsed": false
   },
   "outputs": [
    {
     "name": "stderr",
     "output_type": "stream",
     "text": [
      "C:\\Users\\Twilibri\\AppData\\Local\\Programs\\Python\\Python35\\lib\\site-packages\\ipykernel\\__main__.py:6: RuntimeWarning: overflow encountered in ubyte_scalars\n",
      "C:\\Users\\Twilibri\\AppData\\Local\\Programs\\Python\\Python35\\lib\\site-packages\\ipykernel\\__main__.py:7: RuntimeWarning: overflow encountered in ubyte_scalars\n"
     ]
    },
    {
     "data": {
      "text/plain": [
       "72.552933333333328"
      ]
     },
     "execution_count": 3,
     "metadata": {},
     "output_type": "execute_result"
    }
   ],
   "source": [
    "def quadratique(nImg1, nImg2):\n",
    "    if nImg1.shape == nImg2.shape:\n",
    "        err_quadratique = 0\n",
    "        for x in range(nImg1.shape[0]):\n",
    "            for y in range(nImg1.shape[1]):\n",
    "                diff=nImg1[x][y] - nImg2[x][y]\n",
    "                err_quadratique=err_quadratique+diff*diff\n",
    "        err_moyenne=err_quadratique/(nImg1.shape[0]*nImg1.shape[1])\n",
    "        return err_moyenne\n",
    "    else:\n",
    "        print(\"Les images ne sont pas de la même taille\")\n",
    "\n",
    "quadratique(img,quantification(img,38))"
   ]
  },
  {
   "cell_type": "markdown",
   "metadata": {},
   "source": [
    "OpenCV permet d'effectuer un seuillage avec la fonction threshold. Ici le seuil est choisi par un paramètre du même nom."
   ]
  },
  {
   "cell_type": "code",
   "execution_count": 8,
   "metadata": {
    "collapsed": true
   },
   "outputs": [],
   "source": [
    "def seuillage(nImg,seuil):\n",
    "    ret,nImgS = cv2.threshold(nImg,seuil,255,cv2.THRESH_BINARY)\n",
    "    \n",
    "    return nImgS\n",
    "\n",
    "imgS = seuillage(img,128)\n",
    "\n",
    "plt.subplot(2,2,1), plt.imshow(img, 'gray')\n",
    "plt.subplot(2,2,2), plt.imshow(imgS, 'gray')\n",
    "plt.subplot(2,2,3), plt.plot(hist)\n",
    "plt.subplot(2,2,4), plt.plot(cv2.calcHist([imgS],[0],None,[256],[0,256]))\n",
    "plt.xlim([0,256])\n",
    "\n",
    "plt.show()"
   ]
  },
  {
   "cell_type": "markdown",
   "metadata": {},
   "source": [
    "OpenCV permet d'effectuer une égalisation très simplement avec la fonction equalizeHist. Il suffir de donner l'image en paramètre et le reste se fait de lui même."
   ]
  },
  {
   "cell_type": "code",
   "execution_count": null,
   "metadata": {
    "collapsed": true
   },
   "outputs": [],
   "source": [
    "def egalisation(nImg):\n",
    "    imgE = cv2.equalizeHist(nImg)\n",
    "    return imgE\n",
    "\n",
    "imgE = egalisation(img)\n",
    "\n",
    "plt.subplot(2,2,1), plt.imshow(img, 'gray')\n",
    "plt.subplot(2,2,2), plt.imshow(imgE, 'gray')\n",
    "plt.subplot(2,2,3), plt.plot(hist)\n",
    "plt.subplot(2,2,4), plt.plot(cv2.calcHist([imgE],[0],None,[256],[0,256]))\n",
    "plt.xlim([0,256])\n",
    "\n",
    "plt.show()"
   ]
  }
 ],
 "metadata": {
  "kernelspec": {
   "display_name": "Python 3",
   "language": "python",
   "name": "python3"
  },
  "language_info": {
   "codemirror_mode": {
    "name": "ipython",
    "version": 3
   },
   "file_extension": ".py",
   "mimetype": "text/x-python",
   "name": "python",
   "nbconvert_exporter": "python",
   "pygments_lexer": "ipython3",
   "version": "3.5.1"
  }
 },
 "nbformat": 4,
 "nbformat_minor": 0
}
