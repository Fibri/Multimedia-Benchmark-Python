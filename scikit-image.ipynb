{
 "cells": [
  {
   "cell_type": "markdown",
   "metadata": {},
   "source": [
    "## Scikit-Image"
   ]
  },
  {
   "cell_type": "markdown",
   "metadata": {},
   "source": [
    "Voici le notebook utilisant uniquement scikit-image. Il présente des cas d'utilisation utilisant les TP images. La version de scikit-image utilisée est la version 0.12. C'est la dernière version stable. Elle disponible via pip3. Il existe des différentes importantes entre les versions de scikit-images. L'API est en train de s'étendre."
   ]
  },
  {
   "cell_type": "markdown",
   "metadata": {},
   "source": [
    "On va commencer par charger une image et la transformée en niveau de gris."
   ]
  },
  {
   "cell_type": "code",
   "execution_count": null,
   "metadata": {},
   "outputs": [],
   "source": [
    "from skimage import io, color\n",
    "img = color.rgb2gray(io.imread(\"tp1/talvi.jpg\"))"
   ]
  },
  {
   "cell_type": "markdown",
   "metadata": {},
   "source": [
    "Maintenant, contrairement aux autres bibliothèques, on va pouvoir calculer l'erreur quadratique simplement."
   ]
  },
  {
   "cell_type": "code",
   "execution_count": null,
   "metadata": {},
   "outputs": [],
   "source": [
    "from skimage import measure\n",
    "def quadratique(img1, img2):\n",
    "    if img1.shape == img2.shape:\n",
    "        print(measure.compare_mse(img1, img2))\n",
    "    else:\n",
    "        print(\"Les images ne sont pas de la même taille\")"
   ]
  },
  {
   "cell_type": "markdown",
   "metadata": {},
   "source": [
    "Pour tester notre fonction ``quadratique``, nous allons faire une égalisation de l'image."
   ]
  },
  {
   "cell_type": "code",
   "execution_count": 4,
   "metadata": {},
   "outputs": [
    {
     "name": "stdout",
     "output_type": "stream",
     "text": [
      "0.0313464800077\n"
     ]
    }
   ],
   "source": [
    "from skimage import exposure\n",
    "img_egalisee = exposure.equalize_hist(img)\n",
    "quadratique(img, img_egalisee)"
   ]
  },
  {
   "cell_type": "markdown",
   "metadata": {},
   "source": [
    "Scikit-image permet de faire du seuillage. Mais d'après la documentation, il n'est pas possible de choisir un seuil arbitrairement."
   ]
  },
  {
   "cell_type": "markdown",
   "metadata": {},
   "source": [
    "Maintenant, nous allons afficher les deux images et leur histogramme pour concretement la différence. Une partie du code ci-dessous est extraite de la documentation de scikit-image."
   ]
  },
  {
   "cell_type": "code",
   "execution_count": null,
   "metadata": {},
   "outputs": [],
   "source": [
    "from skimage import exposure\n",
    "import matplotlib.pyplot as plt\n",
    "import numpy as np\n",
    "\n",
    "def plot_img_and_hist(img, axes, bins=256):\n",
    "\n",
    "    ax_img, ax_hist = axes\n",
    "    ax_cdf = ax_hist.twinx()\n",
    "\n",
    "    # Display image\n",
    "    ax_img.imshow(img, cmap='gray')\n",
    "    ax_img.set_axis_off()\n",
    "\n",
    "    # Display histogram\n",
    "    ax_hist.hist(img.ravel() * 255, bins=bins)\n",
    "    ax_hist.ticklabel_format(axis='y', style='scientific', scilimits=(0, 0))\n",
    "    ax_hist.set_xlabel('Pixel intensity')\n",
    "\n",
    "\n",
    "    ax_hist.set_xlim(0, 255)\n",
    "    # Display cumulative distribution\n",
    "    img_cdf, bins = exposure.cumulative_distribution(img*255, bins)\n",
    "    ax_cdf.plot(bins, img_cdf, 'r')\n",
    "\n",
    "    return ax_img, ax_hist, ax_cdf\n",
    "\n",
    "\n",
    "fig = plt.figure()\n",
    "axes = np.zeros((2, 3), dtype=np.object)\n",
    "axes[0,0] = plt.subplot(2, 2, 1, adjustable='box-forced')\n",
    "axes[0,1] = plt.subplot(2, 2, 2, sharex=axes[0,0], sharey=axes[0,0], adjustable='box-forced')\n",
    "axes[1,0] = plt.subplot(2, 2, 3)\n",
    "axes[1,1] = plt.subplot(2, 2, 4)\n",
    "ax_img, ax_hist, ax_cdf = plot_img_and_hist(img, axes[:, 0])\n",
    "ax_img.set_title('Image originale')\n",
    "ax_hist.set_ylabel('nombre de pixels')\n",
    "\n",
    "ax_img, ax_hist, ax_cdf = plot_img_and_hist(img_egalisee, axes[:, 1])\n",
    "ax_img.set_title('Image égalisée')\n",
    "\n",
    "ax_cdf.set_ylabel(\"Part de l'intensité totale\")\n",
    "\n",
    "fig.subplots_adjust(wspace=0.4)\n",
    "plt.show()"
   ]
  },
  {
   "cell_type": "markdown",
   "metadata": {},
   "source": [
    "Continuons dans le TP1 avec l'agrandissement d'image. En quelques lignes, nous allons réaliser une agrandissement au plus proche voisin et bilinéaire"
   ]
  },
  {
   "cell_type": "code",
   "execution_count": null,
   "metadata": {},
   "outputs": [],
   "source": [
    "from skimage import transform\n",
    "def agrandissement(img):\n",
    "    img_bilinear = transform.rescale(img, scale=2, mode='wrap', preserve_range=True, order=1)\n",
    "    # order=1 <=> bi-linear (skimage.transform.warp)\n",
    "    img_nearNeighbor = transform.rescale(image=img, scale=2, mode='wrap', preserve_range=True, order=0)\n",
    "    # order=0 <=> nearest neighbor (skimage.transform.warp)\n",
    "\n",
    "    fig = plt.figure()\n",
    "    fig.add_subplot(1, 2, 1)\n",
    "    plt.imshow(img_bilinear, cmap='gray')\n",
    "    fig.add_subplot(1, 2, 2)\n",
    "    plt.imshow(img_nearNeighbor, cmap='gray')\n",
    "    plt.show()\n",
    "agrandissement(img)"
   ]
  },
  {
   "cell_type": "markdown",
   "metadata": {},
   "source": [
    "La partie sur la convolution du TP 2 peut être réaliser avec Numpy uniquement. Par contre, scikit-image devient intéressant dans la partie filtrage. Scikit-image permet de générer différents types de bruit notament le bruit \"gaussien\" et le bruit \"poivre et sel\"."
   ]
  },
  {
   "cell_type": "code",
   "execution_count": null,
   "metadata": {},
   "outputs": [],
   "source": [
    "from scipy import ndimage\n",
    "from skimage import filters, util\n",
    "def filtre2D(img):\n",
    "    N = 3\n",
    "    type_bruit = 'AG'\n",
    "\n",
    "    selem = np.ones([N, N])\n",
    "    if type_bruit == 'AG':\n",
    "        bruit = util.random_noise(np.zeros(img.shape), mode='gaussian')\n",
    "        img_bruitee = util.random_noise(img, mode='gaussian')\n",
    "    else:\n",
    "        bruit = util.random_noise(np.zeros(img.shape), mode='s&p')\n",
    "        img_bruitee = util.random_noise(img, mode='s&p')\n",
    "\n",
    "    img_bruit_median = filters.median(img_bruitee, selem)\n",
    "    img_bruit_linear = ndimage.convolve(img_bruitee, selem)\n",
    "\n",
    "    fig = plt.figure()\n",
    "\n",
    "    if type_bruit == 'AG':\n",
    "        bruit_linear = ndimage.convolve(bruit, selem)\n",
    "        img_linear = ndimage.convolve(img, selem)\n",
    "        fig.add_subplot(3, 3, 1)\n",
    "        plt.imshow(img, cmap='gray')\n",
    "        fig.add_subplot(3, 3, 2)\n",
    "        plt.imshow(bruit, cmap='gray')\n",
    "        fig.add_subplot(3, 3, 3)\n",
    "        plt.imshow(img_bruitee, cmap='gray')\n",
    "        fig.add_subplot(3, 3, 4)\n",
    "        plt.imshow(img_linear, cmap='gray')\n",
    "        fig.add_subplot(3, 3, 5)\n",
    "        plt.imshow(bruit_linear, cmap='gray')\n",
    "        fig.add_subplot(3, 3, 6)\n",
    "        plt.imshow(img_bruit_linear, cmap='gray')\n",
    "        fig.add_subplot(3, 3, 9)\n",
    "        plt.imshow(img_bruit_median, cmap='gray')\n",
    "    else:\n",
    "        fig.add_subplot(2, 2, 1)\n",
    "        plt.imshow(img, cmap='gray')\n",
    "        fig.add_subplot(2, 2, 2)\n",
    "        plt.imshow(img_bruitee, cmap='gray')\n",
    "        fig.add_subplot(2, 2, 3)\n",
    "        plt.imshow(img_bruit_linear, cmap='gray')\n",
    "        fig.add_subplot(2, 2, 4)\n",
    "        plt.imshow(img_bruit_median, cmap='gray')\n",
    "    plt.show()\n",
    "filtre2D(img)"
   ]
  },
  {
   "cell_type": "markdown",
   "metadata": {},
   "source": [
    "La partie \"transformée de Fourier\" du TP 3 peut être réaliser avec Numpy uniquement. Pour des raisons de temps, les parties \"passe bas\" et \"morpho maths\" n'ont pas été implémenté. Néanmoins, il existe des fonctions de l'API scikit-image permettant d'implémenter rapidement et simplement ces parties."
   ]
  }
 ],
 "metadata": {
  "kernelspec": {
   "display_name": "Python 3",
   "language": "python",
   "name": "python3"
  },
  "language_info": {
   "codemirror_mode": {
    "name": "ipython",
    "version": 3.0
   },
   "file_extension": ".py",
   "mimetype": "text/x-python",
   "name": "python",
   "nbconvert_exporter": "python",
   "pygments_lexer": "ipython3",
   "version": "3.4.2"
  }
 },
 "nbformat": 4,
 "nbformat_minor": 0
}