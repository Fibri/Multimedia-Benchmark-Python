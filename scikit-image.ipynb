{
 "cells": [
  {
   "cell_type": "markdown",
   "metadata": {},
   "source": [
    "## Scikit-Image"
   ]
  },
  {
   "cell_type": "markdown",
   "metadata": {},
   "source": [
    "Voici le notebook utilisant uniquement scikit-image. La version de scikit-image utilisée est la version 0.12. Elle disponible via pip3."
   ]
  },
  {
   "cell_type": "markdown",
   "metadata": {},
   "source": [
    "On va commencer par charger une image et la transformée en niveau de gris."
   ]
  },
  {
   "cell_type": "code",
   "execution_count": null,
   "metadata": {},
   "outputs": [],
   "source": [
    "from skimage import exposure, transform, filters, io, color, measure\n",
    "img = color.rgb2gray(io.imread(\"tp1/talvi.jpg\"))"
   ]
  },
  {
   "cell_type": "markdown",
   "metadata": {},
   "source": [
    "Maintenant, contrairement aux autres bibliothèques, on va pouvoir calculer l'erreur quadratique simplement."
   ]
  },
  {
   "cell_type": "code",
   "execution_count": null,
   "metadata": {},
   "outputs": [],
   "source": [
    "def quadratique(img1, img2):\n",
    "    if img1.shape == img2.shape:\n",
    "        print(measure.compare_mse(img1, img2))\n",
    "    else:\n",
    "        print(\"Les images ne sont pas de la même taille\")"
   ]
  },
  {
   "cell_type": "markdown",
   "metadata": {},
   "source": [
    "Pour tester notre fonction ``quadratique``, nous allons faire une égalisation de l'image."
   ]
  },
  {
   "cell_type": "code",
   "execution_count": 4,
   "metadata": {},
   "outputs": [
    {
     "name": "stdout",
     "output_type": "stream",
     "text": [
      "0.0313464800077\n"
     ]
    }
   ],
   "source": [
    "img_egalisee = exposure.equalize_hist(img)\n",
    "quadratique(img, img_egalisee)"
   ]
  },
  {
   "cell_type": "markdown",
   "metadata": {},
   "source": [
    "Maintenant, nous allons afficher les deux images et leur histogramme pour concretement la différence."
   ]
  },
  {
   "cell_type": "code",
   "execution_count": null,
   "metadata": {},
   "outputs": [],
   "source": [
    "fig = plt.figure()\n",
    "axes = np.zeros((2, 3), dtype=np.object)\n",
    "axes[0,0] = plt.subplot(2, 2, 1, adjustable='box-forced')\n",
    "axes[0,1] = plt.subplot(2, 2, 2, sharex=axes[0,0], sharey=axes[0,0], adjustable='box-forced')\n",
    "axes[1,0] = plt.subplot(2, 2, 3)\n",
    "axes[1,1] = plt.subplot(2, 2, 4)"
   ]
  }
 ],
 "metadata": {
  "kernelspec": {
   "display_name": "Python 3",
   "language": "python",
   "name": "python3"
  },
  "language_info": {
   "codemirror_mode": {
    "name": "ipython",
    "version": 3.0
   },
   "file_extension": ".py",
   "mimetype": "text/x-python",
   "name": "python",
   "nbconvert_exporter": "python",
   "pygments_lexer": "ipython3",
   "version": "3.4.2"
  }
 },
 "nbformat": 4,
 "nbformat_minor": 0
}